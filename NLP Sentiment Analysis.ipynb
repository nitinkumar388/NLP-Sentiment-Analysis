{
  "nbformat": 4,
  "nbformat_minor": 0,
  "metadata": {
    "colab": {
      "name": "Untitled0.ipynb",
      "provenance": []
    },
    "kernelspec": {
      "name": "python3",
      "display_name": "Python 3"
    },
    "language_info": {
      "name": "python"
    }
  },
  "cells": [
    {
      "cell_type": "code",
      "metadata": {
        "id": "4KA1IfVLD31A"
      },
      "source": [
        "import warnings\n",
        "warnings.filterwarnings('ignore')"
      ],
      "execution_count": 2,
      "outputs": []
    },
    {
      "cell_type": "code",
      "metadata": {
        "id": "_JBPbFQHJDZC"
      },
      "source": [
        "import pandas as pd\n",
        "df = pd.read_csv(\"/content/train.csv\")"
      ],
      "execution_count": 3,
      "outputs": []
    },
    {
      "cell_type": "code",
      "metadata": {
        "colab": {
          "base_uri": "https://localhost:8080/"
        },
        "id": "0hng-2EVJLXg",
        "outputId": "9ed245ad-bc59-4097-8f64-059c8ab1ab5c"
      },
      "source": [
        "df.shape"
      ],
      "execution_count": 4,
      "outputs": [
        {
          "output_type": "execute_result",
          "data": {
            "text/plain": [
              "(38932, 5)"
            ]
          },
          "metadata": {
            "tags": []
          },
          "execution_count": 4
        }
      ]
    },
    {
      "cell_type": "code",
      "metadata": {
        "colab": {
          "base_uri": "https://localhost:8080/",
          "height": 203
        },
        "id": "Ii-PeirDJ1xR",
        "outputId": "f9fa7d0b-fb4c-4938-833d-ca11f4cd76a8"
      },
      "source": [
        "df.head()"
      ],
      "execution_count": 5,
      "outputs": [
        {
          "output_type": "execute_result",
          "data": {
            "text/html": [
              "<div>\n",
              "<style scoped>\n",
              "    .dataframe tbody tr th:only-of-type {\n",
              "        vertical-align: middle;\n",
              "    }\n",
              "\n",
              "    .dataframe tbody tr th {\n",
              "        vertical-align: top;\n",
              "    }\n",
              "\n",
              "    .dataframe thead th {\n",
              "        text-align: right;\n",
              "    }\n",
              "</style>\n",
              "<table border=\"1\" class=\"dataframe\">\n",
              "  <thead>\n",
              "    <tr style=\"text-align: right;\">\n",
              "      <th></th>\n",
              "      <th>User_ID</th>\n",
              "      <th>Description</th>\n",
              "      <th>Browser_Used</th>\n",
              "      <th>Device_Used</th>\n",
              "      <th>Is_Response</th>\n",
              "    </tr>\n",
              "  </thead>\n",
              "  <tbody>\n",
              "    <tr>\n",
              "      <th>0</th>\n",
              "      <td>id10326</td>\n",
              "      <td>The room was kind of clean but had a VERY stro...</td>\n",
              "      <td>Edge</td>\n",
              "      <td>Mobile</td>\n",
              "      <td>not happy</td>\n",
              "    </tr>\n",
              "    <tr>\n",
              "      <th>1</th>\n",
              "      <td>id10327</td>\n",
              "      <td>I stayed at the Crown Plaza April -- - April -...</td>\n",
              "      <td>Internet Explorer</td>\n",
              "      <td>Mobile</td>\n",
              "      <td>not happy</td>\n",
              "    </tr>\n",
              "    <tr>\n",
              "      <th>2</th>\n",
              "      <td>id10328</td>\n",
              "      <td>I booked this hotel through Hotwire at the low...</td>\n",
              "      <td>Mozilla</td>\n",
              "      <td>Tablet</td>\n",
              "      <td>not happy</td>\n",
              "    </tr>\n",
              "    <tr>\n",
              "      <th>3</th>\n",
              "      <td>id10329</td>\n",
              "      <td>Stayed here with husband and sons on the way t...</td>\n",
              "      <td>InternetExplorer</td>\n",
              "      <td>Desktop</td>\n",
              "      <td>happy</td>\n",
              "    </tr>\n",
              "    <tr>\n",
              "      <th>4</th>\n",
              "      <td>id10330</td>\n",
              "      <td>My girlfriends and I stayed here to celebrate ...</td>\n",
              "      <td>Edge</td>\n",
              "      <td>Tablet</td>\n",
              "      <td>not happy</td>\n",
              "    </tr>\n",
              "  </tbody>\n",
              "</table>\n",
              "</div>"
            ],
            "text/plain": [
              "   User_ID  ... Is_Response\n",
              "0  id10326  ...   not happy\n",
              "1  id10327  ...   not happy\n",
              "2  id10328  ...   not happy\n",
              "3  id10329  ...       happy\n",
              "4  id10330  ...   not happy\n",
              "\n",
              "[5 rows x 5 columns]"
            ]
          },
          "metadata": {
            "tags": []
          },
          "execution_count": 5
        }
      ]
    },
    {
      "cell_type": "code",
      "metadata": {
        "colab": {
          "base_uri": "https://localhost:8080/"
        },
        "id": "9-9ZwjRhJ4VS",
        "outputId": "7b840568-1ce6-48d5-e518-9a1d7ce06d8e"
      },
      "source": [
        "df.info()"
      ],
      "execution_count": 6,
      "outputs": [
        {
          "output_type": "stream",
          "text": [
            "<class 'pandas.core.frame.DataFrame'>\n",
            "RangeIndex: 38932 entries, 0 to 38931\n",
            "Data columns (total 5 columns):\n",
            " #   Column        Non-Null Count  Dtype \n",
            "---  ------        --------------  ----- \n",
            " 0   User_ID       38932 non-null  object\n",
            " 1   Description   38932 non-null  object\n",
            " 2   Browser_Used  38932 non-null  object\n",
            " 3   Device_Used   38932 non-null  object\n",
            " 4   Is_Response   38932 non-null  object\n",
            "dtypes: object(5)\n",
            "memory usage: 1.5+ MB\n"
          ],
          "name": "stdout"
        }
      ]
    },
    {
      "cell_type": "code",
      "metadata": {
        "colab": {
          "base_uri": "https://localhost:8080/",
          "height": 203
        },
        "id": "o2QuHcc9KEKK",
        "outputId": "55d8a8cc-c1c5-4592-9b8d-03812d44ae11"
      },
      "source": [
        "df.describe().transpose()"
      ],
      "execution_count": 8,
      "outputs": [
        {
          "output_type": "execute_result",
          "data": {
            "text/html": [
              "<div>\n",
              "<style scoped>\n",
              "    .dataframe tbody tr th:only-of-type {\n",
              "        vertical-align: middle;\n",
              "    }\n",
              "\n",
              "    .dataframe tbody tr th {\n",
              "        vertical-align: top;\n",
              "    }\n",
              "\n",
              "    .dataframe thead th {\n",
              "        text-align: right;\n",
              "    }\n",
              "</style>\n",
              "<table border=\"1\" class=\"dataframe\">\n",
              "  <thead>\n",
              "    <tr style=\"text-align: right;\">\n",
              "      <th></th>\n",
              "      <th>count</th>\n",
              "      <th>unique</th>\n",
              "      <th>top</th>\n",
              "      <th>freq</th>\n",
              "    </tr>\n",
              "  </thead>\n",
              "  <tbody>\n",
              "    <tr>\n",
              "      <th>User_ID</th>\n",
              "      <td>38932</td>\n",
              "      <td>38932</td>\n",
              "      <td>id16187</td>\n",
              "      <td>1</td>\n",
              "    </tr>\n",
              "    <tr>\n",
              "      <th>Description</th>\n",
              "      <td>38932</td>\n",
              "      <td>38932</td>\n",
              "      <td>I brought my -- year old daughter to New York ...</td>\n",
              "      <td>1</td>\n",
              "    </tr>\n",
              "    <tr>\n",
              "      <th>Browser_Used</th>\n",
              "      <td>38932</td>\n",
              "      <td>11</td>\n",
              "      <td>Firefox</td>\n",
              "      <td>7367</td>\n",
              "    </tr>\n",
              "    <tr>\n",
              "      <th>Device_Used</th>\n",
              "      <td>38932</td>\n",
              "      <td>3</td>\n",
              "      <td>Desktop</td>\n",
              "      <td>15026</td>\n",
              "    </tr>\n",
              "    <tr>\n",
              "      <th>Is_Response</th>\n",
              "      <td>38932</td>\n",
              "      <td>2</td>\n",
              "      <td>happy</td>\n",
              "      <td>26521</td>\n",
              "    </tr>\n",
              "  </tbody>\n",
              "</table>\n",
              "</div>"
            ],
            "text/plain": [
              "              count  ...   freq\n",
              "User_ID       38932  ...      1\n",
              "Description   38932  ...      1\n",
              "Browser_Used  38932  ...   7367\n",
              "Device_Used   38932  ...  15026\n",
              "Is_Response   38932  ...  26521\n",
              "\n",
              "[5 rows x 4 columns]"
            ]
          },
          "metadata": {
            "tags": []
          },
          "execution_count": 8
        }
      ]
    },
    {
      "cell_type": "code",
      "metadata": {
        "colab": {
          "base_uri": "https://localhost:8080/",
          "height": 220
        },
        "id": "eS4WzF_xKJef",
        "outputId": "4d7d564e-e5bf-48e3-9129-8273f6e77f06"
      },
      "source": [
        "count = df.isnull().sum().sort_values(ascending=False)\n",
        "percentage = ((df.isnull().sum()/len(df)*100)).sort_values(ascending=False)\n",
        "missing_data = pd.concat([count, percentage], axis=1, keys=['count','percentage'])\n",
        "print('count and percantage of missing values for the columns:')\n",
        "missing_data\n"
      ],
      "execution_count": 11,
      "outputs": [
        {
          "output_type": "stream",
          "text": [
            "count and percantage of missing values for the columns:\n"
          ],
          "name": "stdout"
        },
        {
          "output_type": "execute_result",
          "data": {
            "text/html": [
              "<div>\n",
              "<style scoped>\n",
              "    .dataframe tbody tr th:only-of-type {\n",
              "        vertical-align: middle;\n",
              "    }\n",
              "\n",
              "    .dataframe tbody tr th {\n",
              "        vertical-align: top;\n",
              "    }\n",
              "\n",
              "    .dataframe thead th {\n",
              "        text-align: right;\n",
              "    }\n",
              "</style>\n",
              "<table border=\"1\" class=\"dataframe\">\n",
              "  <thead>\n",
              "    <tr style=\"text-align: right;\">\n",
              "      <th></th>\n",
              "      <th>count</th>\n",
              "      <th>percentage</th>\n",
              "    </tr>\n",
              "  </thead>\n",
              "  <tbody>\n",
              "    <tr>\n",
              "      <th>Is_Response</th>\n",
              "      <td>0</td>\n",
              "      <td>0.0</td>\n",
              "    </tr>\n",
              "    <tr>\n",
              "      <th>Device_Used</th>\n",
              "      <td>0</td>\n",
              "      <td>0.0</td>\n",
              "    </tr>\n",
              "    <tr>\n",
              "      <th>Browser_Used</th>\n",
              "      <td>0</td>\n",
              "      <td>0.0</td>\n",
              "    </tr>\n",
              "    <tr>\n",
              "      <th>Description</th>\n",
              "      <td>0</td>\n",
              "      <td>0.0</td>\n",
              "    </tr>\n",
              "    <tr>\n",
              "      <th>User_ID</th>\n",
              "      <td>0</td>\n",
              "      <td>0.0</td>\n",
              "    </tr>\n",
              "  </tbody>\n",
              "</table>\n",
              "</div>"
            ],
            "text/plain": [
              "              count  percentage\n",
              "Is_Response       0         0.0\n",
              "Device_Used       0         0.0\n",
              "Browser_Used      0         0.0\n",
              "Description       0         0.0\n",
              "User_ID           0         0.0"
            ]
          },
          "metadata": {
            "tags": []
          },
          "execution_count": 11
        }
      ]
    },
    {
      "cell_type": "code",
      "metadata": {
        "colab": {
          "base_uri": "https://localhost:8080/",
          "height": 390
        },
        "id": "6m7AsSxYKiUN",
        "outputId": "c9c575cb-c0d6-47c7-c717-ab428ee0882e"
      },
      "source": [
        "import matplotlib.pyplot as plt\n",
        "%matplotlib inline\n",
        "print(\"percentage for default\\n\")\n",
        "print(round(df.Is_Response.value_counts(normalize=True)*100,2))\n",
        "round(df.Is_Response.value_counts(normalize=True)*100,2).plot(kind='bar')\n",
        "plt.show()"
      ],
      "execution_count": 12,
      "outputs": [
        {
          "output_type": "stream",
          "text": [
            "percentage for default\n",
            "\n",
            "happy        68.12\n",
            "not happy    31.88\n",
            "Name: Is_Response, dtype: float64\n"
          ],
          "name": "stdout"
        },
        {
          "output_type": "display_data",
          "data": {
            "image/png": "[encoded data removed]",
            "text/plain": [
              "<Figure size 432x288 with 1 Axes>"
            ]
          },
          "metadata": {
            "tags": [],
            "needs_background": "light"
          }
        }
      ]
    },
    {
      "cell_type": "code",
      "metadata": {
        "id": "GJ78ShefNgcm"
      },
      "source": [
        " df.drop(columns=['User_ID','Browser_Used','Device_Used'],inplace=True)"
      ],
      "execution_count": 14,
      "outputs": []
    },
    {
      "cell_type": "code",
      "metadata": {
        "colab": {
          "base_uri": "https://localhost:8080/",
          "height": 203
        },
        "id": "lXaTG3zXOLpK",
        "outputId": "cad167fa-b330-471e-8be2-16deadeb939b"
      },
      "source": [
        "df.head()"
      ],
      "execution_count": 15,
      "outputs": [
        {
          "output_type": "execute_result",
          "data": {
            "text/html": [
              "<div>\n",
              "<style scoped>\n",
              "    .dataframe tbody tr th:only-of-type {\n",
              "        vertical-align: middle;\n",
              "    }\n",
              "\n",
              "    .dataframe tbody tr th {\n",
              "        vertical-align: top;\n",
              "    }\n",
              "\n",
              "    .dataframe thead th {\n",
              "        text-align: right;\n",
              "    }\n",
              "</style>\n",
              "<table border=\"1\" class=\"dataframe\">\n",
              "  <thead>\n",
              "    <tr style=\"text-align: right;\">\n",
              "      <th></th>\n",
              "      <th>Description</th>\n",
              "      <th>Is_Response</th>\n",
              "    </tr>\n",
              "  </thead>\n",
              "  <tbody>\n",
              "    <tr>\n",
              "      <th>0</th>\n",
              "      <td>The room was kind of clean but had a VERY stro...</td>\n",
              "      <td>not happy</td>\n",
              "    </tr>\n",
              "    <tr>\n",
              "      <th>1</th>\n",
              "      <td>I stayed at the Crown Plaza April -- - April -...</td>\n",
              "      <td>not happy</td>\n",
              "    </tr>\n",
              "    <tr>\n",
              "      <th>2</th>\n",
              "      <td>I booked this hotel through Hotwire at the low...</td>\n",
              "      <td>not happy</td>\n",
              "    </tr>\n",
              "    <tr>\n",
              "      <th>3</th>\n",
              "      <td>Stayed here with husband and sons on the way t...</td>\n",
              "      <td>happy</td>\n",
              "    </tr>\n",
              "    <tr>\n",
              "      <th>4</th>\n",
              "      <td>My girlfriends and I stayed here to celebrate ...</td>\n",
              "      <td>not happy</td>\n",
              "    </tr>\n",
              "  </tbody>\n",
              "</table>\n",
              "</div>"
            ],
            "text/plain": [
              "                                         Description Is_Response\n",
              "0  The room was kind of clean but had a VERY stro...   not happy\n",
              "1  I stayed at the Crown Plaza April -- - April -...   not happy\n",
              "2  I booked this hotel through Hotwire at the low...   not happy\n",
              "3  Stayed here with husband and sons on the way t...       happy\n",
              "4  My girlfriends and I stayed here to celebrate ...   not happy"
            ]
          },
          "metadata": {
            "tags": []
          },
          "execution_count": 15
        }
      ]
    },
    {
      "cell_type": "code",
      "metadata": {
        "id": "7e262YvYOVZ5"
      },
      "source": [
        "import re\n",
        "import string\n",
        "\n",
        "def text_clean_1(text):\n",
        "  text = text.lower()\n",
        "  text = re.sub('\\[.*?\\]','',text)\n",
        "  text = re.sub('[%s]'%re.escape(string.punctuation),'',text)\n",
        "  text = re.sub('\\w*\\d\\w*','',text)\n",
        "  return text\n",
        "\n",
        "cleaned1 = lambda x: text_clean_1(x)"
      ],
      "execution_count": 16,
      "outputs": []
    },
    {
      "cell_type": "code",
      "metadata": {
        "colab": {
          "base_uri": "https://localhost:8080/",
          "height": 357
        },
        "id": "gI019fTMPNMN",
        "outputId": "0f534ca3-da10-46a3-81de-bc23334366a4"
      },
      "source": [
        "df['cleaned_description'] = pd.DataFrame(df.Description.apply(cleaned1))\n",
        "df.head(10)"
      ],
      "execution_count": 17,
      "outputs": [
        {
          "output_type": "execute_result",
          "data": {
            "text/html": [
              "<div>\n",
              "<style scoped>\n",
              "    .dataframe tbody tr th:only-of-type {\n",
              "        vertical-align: middle;\n",
              "    }\n",
              "\n",
              "    .dataframe tbody tr th {\n",
              "        vertical-align: top;\n",
              "    }\n",
              "\n",
              "    .dataframe thead th {\n",
              "        text-align: right;\n",
              "    }\n",
              "</style>\n",
              "<table border=\"1\" class=\"dataframe\">\n",
              "  <thead>\n",
              "    <tr style=\"text-align: right;\">\n",
              "      <th></th>\n",
              "      <th>Description</th>\n",
              "      <th>Is_Response</th>\n",
              "      <th>cleaned_description</th>\n",
              "    </tr>\n",
              "  </thead>\n",
              "  <tbody>\n",
              "    <tr>\n",
              "      <th>0</th>\n",
              "      <td>The room was kind of clean but had a VERY stro...</td>\n",
              "      <td>not happy</td>\n",
              "      <td>the room was kind of clean but had a very stro...</td>\n",
              "    </tr>\n",
              "    <tr>\n",
              "      <th>1</th>\n",
              "      <td>I stayed at the Crown Plaza April -- - April -...</td>\n",
              "      <td>not happy</td>\n",
              "      <td>i stayed at the crown plaza april   april   th...</td>\n",
              "    </tr>\n",
              "    <tr>\n",
              "      <th>2</th>\n",
              "      <td>I booked this hotel through Hotwire at the low...</td>\n",
              "      <td>not happy</td>\n",
              "      <td>i booked this hotel through hotwire at the low...</td>\n",
              "    </tr>\n",
              "    <tr>\n",
              "      <th>3</th>\n",
              "      <td>Stayed here with husband and sons on the way t...</td>\n",
              "      <td>happy</td>\n",
              "      <td>stayed here with husband and sons on the way t...</td>\n",
              "    </tr>\n",
              "    <tr>\n",
              "      <th>4</th>\n",
              "      <td>My girlfriends and I stayed here to celebrate ...</td>\n",
              "      <td>not happy</td>\n",
              "      <td>my girlfriends and i stayed here to celebrate ...</td>\n",
              "    </tr>\n",
              "    <tr>\n",
              "      <th>5</th>\n",
              "      <td>We had - rooms. One was very nice and clearly ...</td>\n",
              "      <td>happy</td>\n",
              "      <td>we had  rooms one was very nice and clearly ha...</td>\n",
              "    </tr>\n",
              "    <tr>\n",
              "      <th>6</th>\n",
              "      <td>My husband and I have stayed in this hotel a f...</td>\n",
              "      <td>not happy</td>\n",
              "      <td>my husband and i have stayed in this hotel a f...</td>\n",
              "    </tr>\n",
              "    <tr>\n",
              "      <th>7</th>\n",
              "      <td>My wife &amp; I stayed in this glorious city a whi...</td>\n",
              "      <td>happy</td>\n",
              "      <td>my wife  i stayed in this glorious city a whil...</td>\n",
              "    </tr>\n",
              "    <tr>\n",
              "      <th>8</th>\n",
              "      <td>My boyfriend and I stayed at the Fairmont on a...</td>\n",
              "      <td>happy</td>\n",
              "      <td>my boyfriend and i stayed at the fairmont on a...</td>\n",
              "    </tr>\n",
              "    <tr>\n",
              "      <th>9</th>\n",
              "      <td>Wonderful staff, great location, but it was de...</td>\n",
              "      <td>not happy</td>\n",
              "      <td>wonderful staff great location but it was defi...</td>\n",
              "    </tr>\n",
              "  </tbody>\n",
              "</table>\n",
              "</div>"
            ],
            "text/plain": [
              "                                         Description  ...                                cleaned_description\n",
              "0  The room was kind of clean but had a VERY stro...  ...  the room was kind of clean but had a very stro...\n",
              "1  I stayed at the Crown Plaza April -- - April -...  ...  i stayed at the crown plaza april   april   th...\n",
              "2  I booked this hotel through Hotwire at the low...  ...  i booked this hotel through hotwire at the low...\n",
              "3  Stayed here with husband and sons on the way t...  ...  stayed here with husband and sons on the way t...\n",
              "4  My girlfriends and I stayed here to celebrate ...  ...  my girlfriends and i stayed here to celebrate ...\n",
              "5  We had - rooms. One was very nice and clearly ...  ...  we had  rooms one was very nice and clearly ha...\n",
              "6  My husband and I have stayed in this hotel a f...  ...  my husband and i have stayed in this hotel a f...\n",
              "7  My wife & I stayed in this glorious city a whi...  ...  my wife  i stayed in this glorious city a whil...\n",
              "8  My boyfriend and I stayed at the Fairmont on a...  ...  my boyfriend and i stayed at the fairmont on a...\n",
              "9  Wonderful staff, great location, but it was de...  ...  wonderful staff great location but it was defi...\n",
              "\n",
              "[10 rows x 3 columns]"
            ]
          },
          "metadata": {
            "tags": []
          },
          "execution_count": 17
        }
      ]
    },
    {
      "cell_type": "code",
      "metadata": {
        "id": "tdvXTN9sQEAC"
      },
      "source": [
        "def text_clean_2(text):\n",
        "  text = re.sub('[''\"\"...]','',text)\n",
        "  text = re.sub('\\n','',text)\n",
        "  return text\n",
        "\n",
        "cleaned2 = lambda x: text_clean_2(x)"
      ],
      "execution_count": 22,
      "outputs": []
    },
    {
      "cell_type": "code",
      "metadata": {
        "colab": {
          "base_uri": "https://localhost:8080/",
          "height": 357
        },
        "id": "nGK6F7kwaSZD",
        "outputId": "83b91c19-018e-47d1-ae50-96020f1b558d"
      },
      "source": [
        "df['cleaned_description_new'] = pd.DataFrame(df['cleaned_description'].apply(cleaned2))\n",
        "df.head(10)"
      ],
      "execution_count": 23,
      "outputs": [
        {
          "output_type": "execute_result",
          "data": {
            "text/html": [
              "<div>\n",
              "<style scoped>\n",
              "    .dataframe tbody tr th:only-of-type {\n",
              "        vertical-align: middle;\n",
              "    }\n",
              "\n",
              "    .dataframe tbody tr th {\n",
              "        vertical-align: top;\n",
              "    }\n",
              "\n",
              "    .dataframe thead th {\n",
              "        text-align: right;\n",
              "    }\n",
              "</style>\n",
              "<table border=\"1\" class=\"dataframe\">\n",
              "  <thead>\n",
              "    <tr style=\"text-align: right;\">\n",
              "      <th></th>\n",
              "      <th>Description</th>\n",
              "      <th>Is_Response</th>\n",
              "      <th>cleaned_description</th>\n",
              "      <th>cleaned_description_new</th>\n",
              "    </tr>\n",
              "  </thead>\n",
              "  <tbody>\n",
              "    <tr>\n",
              "      <th>0</th>\n",
              "      <td>The room was kind of clean but had a VERY stro...</td>\n",
              "      <td>not happy</td>\n",
              "      <td>the room was kind of clean but had a very stro...</td>\n",
              "      <td>the room was kind of clean but had a very stro...</td>\n",
              "    </tr>\n",
              "    <tr>\n",
              "      <th>1</th>\n",
              "      <td>I stayed at the Crown Plaza April -- - April -...</td>\n",
              "      <td>not happy</td>\n",
              "      <td>i stayed at the crown plaza april   april   th...</td>\n",
              "      <td>i stayed at the crown plaza april   april   th...</td>\n",
              "    </tr>\n",
              "    <tr>\n",
              "      <th>2</th>\n",
              "      <td>I booked this hotel through Hotwire at the low...</td>\n",
              "      <td>not happy</td>\n",
              "      <td>i booked this hotel through hotwire at the low...</td>\n",
              "      <td>i booked this hotel through hotwire at the low...</td>\n",
              "    </tr>\n",
              "    <tr>\n",
              "      <th>3</th>\n",
              "      <td>Stayed here with husband and sons on the way t...</td>\n",
              "      <td>happy</td>\n",
              "      <td>stayed here with husband and sons on the way t...</td>\n",
              "      <td>stayed here with husband and sons on the way t...</td>\n",
              "    </tr>\n",
              "    <tr>\n",
              "      <th>4</th>\n",
              "      <td>My girlfriends and I stayed here to celebrate ...</td>\n",
              "      <td>not happy</td>\n",
              "      <td>my girlfriends and i stayed here to celebrate ...</td>\n",
              "      <td>my girlfriends and i stayed here to celebrate ...</td>\n",
              "    </tr>\n",
              "    <tr>\n",
              "      <th>5</th>\n",
              "      <td>We had - rooms. One was very nice and clearly ...</td>\n",
              "      <td>happy</td>\n",
              "      <td>we had  rooms one was very nice and clearly ha...</td>\n",
              "      <td>we had  rooms one was very nice and clearly ha...</td>\n",
              "    </tr>\n",
              "    <tr>\n",
              "      <th>6</th>\n",
              "      <td>My husband and I have stayed in this hotel a f...</td>\n",
              "      <td>not happy</td>\n",
              "      <td>my husband and i have stayed in this hotel a f...</td>\n",
              "      <td>my husband and i have stayed in this hotel a f...</td>\n",
              "    </tr>\n",
              "    <tr>\n",
              "      <th>7</th>\n",
              "      <td>My wife &amp; I stayed in this glorious city a whi...</td>\n",
              "      <td>happy</td>\n",
              "      <td>my wife  i stayed in this glorious city a whil...</td>\n",
              "      <td>my wife  i stayed in this glorious city a whil...</td>\n",
              "    </tr>\n",
              "    <tr>\n",
              "      <th>8</th>\n",
              "      <td>My boyfriend and I stayed at the Fairmont on a...</td>\n",
              "      <td>happy</td>\n",
              "      <td>my boyfriend and i stayed at the fairmont on a...</td>\n",
              "      <td>my boyfriend and i stayed at the fairmont on a...</td>\n",
              "    </tr>\n",
              "    <tr>\n",
              "      <th>9</th>\n",
              "      <td>Wonderful staff, great location, but it was de...</td>\n",
              "      <td>not happy</td>\n",
              "      <td>wonderful staff great location but it was defi...</td>\n",
              "      <td>wonderful staff great location but it was defi...</td>\n",
              "    </tr>\n",
              "  </tbody>\n",
              "</table>\n",
              "</div>"
            ],
            "text/plain": [
              "                                         Description  ...                            cleaned_description_new\n",
              "0  The room was kind of clean but had a VERY stro...  ...  the room was kind of clean but had a very stro...\n",
              "1  I stayed at the Crown Plaza April -- - April -...  ...  i stayed at the crown plaza april   april   th...\n",
              "2  I booked this hotel through Hotwire at the low...  ...  i booked this hotel through hotwire at the low...\n",
              "3  Stayed here with husband and sons on the way t...  ...  stayed here with husband and sons on the way t...\n",
              "4  My girlfriends and I stayed here to celebrate ...  ...  my girlfriends and i stayed here to celebrate ...\n",
              "5  We had - rooms. One was very nice and clearly ...  ...  we had  rooms one was very nice and clearly ha...\n",
              "6  My husband and I have stayed in this hotel a f...  ...  my husband and i have stayed in this hotel a f...\n",
              "7  My wife & I stayed in this glorious city a whi...  ...  my wife  i stayed in this glorious city a whil...\n",
              "8  My boyfriend and I stayed at the Fairmont on a...  ...  my boyfriend and i stayed at the fairmont on a...\n",
              "9  Wonderful staff, great location, but it was de...  ...  wonderful staff great location but it was defi...\n",
              "\n",
              "[10 rows x 4 columns]"
            ]
          },
          "metadata": {
            "tags": []
          },
          "execution_count": 23
        }
      ]
    },
    {
      "cell_type": "code",
      "metadata": {
        "id": "Rv6HpBeoajqU"
      },
      "source": [
        "from sklearn.model_selection import train_test_split\n",
        "x = df.cleaned_description_new\n",
        "y = df.Is_Response\n"
      ],
      "execution_count": 24,
      "outputs": []
    },
    {
      "cell_type": "code",
      "metadata": {
        "id": "Iof2G_79cBrd"
      },
      "source": [
        "x_train, x_test, y_train, y_test = train_test_split(x,y, test_size=0.1, random_state=225)"
      ],
      "execution_count": 26,
      "outputs": []
    },
    {
      "cell_type": "code",
      "metadata": {
        "colab": {
          "base_uri": "https://localhost:8080/"
        },
        "id": "N_6Wh6mqcXby",
        "outputId": "dd0fa905-64af-40f8-f2dc-ef79eeff41c0"
      },
      "source": [
        "print('x_train :', len(x_train))\n",
        "print('x_test :', len(x_test))\n",
        "print('y_train :', len(y_train))\n",
        "print('y_test :', len(y_test))"
      ],
      "execution_count": 27,
      "outputs": [
        {
          "output_type": "stream",
          "text": [
            "x_train : 35038\n",
            "x_test : 3894\n",
            "y_train : 35038\n",
            "y_test : 3894\n"
          ],
          "name": "stdout"
        }
      ]
    },
    {
      "cell_type": "code",
      "metadata": {
        "id": "_D9F5B6Vc6O6"
      },
      "source": [
        "from sklearn.feature_extraction.text import TfidfVectorizer\n",
        "from sklearn.linear_model import LogisticRegression\n",
        "\n",
        "tvec = TfidfVectorizer()\n",
        "clf2 = LogisticRegression(solver='lbfgs')\n",
        "\n",
        "from sklearn.pipeline import Pipeline"
      ],
      "execution_count": 32,
      "outputs": []
    },
    {
      "cell_type": "code",
      "metadata": {
        "colab": {
          "base_uri": "https://localhost:8080/"
        },
        "id": "QOjLJFjwd8t0",
        "outputId": "a426ccf3-8e03-4a8a-ef13-b1c60e55761a"
      },
      "source": [
        "model = Pipeline([('vectorizer',tvec),('classifier', clf2)])\n",
        "model.fit(x_train, y_train)\n",
        "\n",
        "from sklearn.metrics import confusion_matrix\n",
        "predictions = model.predict(x_train)\n",
        "confusion_matrix(predictions, y_train)"
      ],
      "execution_count": 35,
      "outputs": [
        {
          "output_type": "execute_result",
          "data": {
            "text/plain": [
              "array([[22923,  2024],\n",
              "       [ 1027,  9064]])"
            ]
          },
          "metadata": {
            "tags": []
          },
          "execution_count": 35
        }
      ]
    },
    {
      "cell_type": "code",
      "metadata": {
        "id": "8arVa1hKi2Yv"
      },
      "source": [
        "from sklearn.metrics import accuracy_score, precision_score, recall_score\n",
        "\n",
        "print(\"Accuracy:\", accuracy_score(predictions, y_test))\n",
        "print(\"Precision:\", precision_score(predictions, y_test, average='weighted'))\n",
        "print(\"Recall:\", recall_score(predictions, y_test, average='weighted'))"
      ],
      "execution_count": null,
      "outputs": []
    },
    {
      "cell_type": "code",
      "metadata": {
        "colab": {
          "base_uri": "https://localhost:8080/"
        },
        "id": "_PCk3_zYkRfe",
        "outputId": "72b98fbc-14d7-430b-d00f-db547f83814a"
      },
      "source": [
        "example = ['i think you not deserve me']\n",
        "result = model.predict(example)\n",
        "\n",
        "print(result)"
      ],
      "execution_count": 45,
      "outputs": [
        {
          "output_type": "stream",
          "text": [
            "['not happy']\n"
          ],
          "name": "stdout"
        }
      ]
    },
    {
      "cell_type": "code",
      "metadata": {
        "id": "JOzF8RqZkvk4"
      },
      "source": [
        ""
      ],
      "execution_count": null,
      "outputs": []
    }
  ]
}